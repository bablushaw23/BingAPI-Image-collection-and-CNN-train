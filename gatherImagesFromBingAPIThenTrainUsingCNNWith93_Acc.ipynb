{
  "nbformat": 4,
  "nbformat_minor": 0,
  "metadata": {
    "colab": {
      "name": "gatherImagesFromBingAPIThenTrainUsingCNNWith93%Acc.ipynb",
      "provenance": [],
      "collapsed_sections": [],
      "toc_visible": true,
      "include_colab_link": true
    },
    "kernelspec": {
      "name": "python3",
      "display_name": "Python 3"
    },
    "accelerator": "GPU"
  },
  "cells": [
    {
      "cell_type": "markdown",
      "metadata": {
        "id": "view-in-github",
        "colab_type": "text"
      },
      "source": [
        "<a href=\"https://colab.research.google.com/github/bablushaw23/BingAPI-Image-collection-and-CNN-train/blob/master/gatherImagesFromBingAPIThenTrainUsingCNNWith93_Acc.ipynb\" target=\"_parent\"><img src=\"https://colab.research.google.com/assets/colab-badge.svg\" alt=\"Open In Colab\"/></a>"
      ]
    },
    {
      "cell_type": "markdown",
      "metadata": {
        "id": "_gD7XeZekUU6",
        "colab_type": "text"
      },
      "source": [
        "#Aqquiring dataset\n",
        "Here i am using Bing's API to gather images. To get it:\n",
        "\n",
        "*   Access Azure cognitive services through [link](https://azure.microsoft.com/en-us/try/cognitive-services/?apiSlug=search-api-v7&country=India&allowContact=true&unauthorized=1#_=_)\n",
        "*   Find Search API tab\n",
        "\n",
        "*   There you'll find bing Search API v7\n",
        "*   It includes image search\n",
        "* Go and aquire your API key\n",
        "\n",
        "\n",
        "\n"
      ]
    },
    {
      "cell_type": "markdown",
      "metadata": {
        "id": "iJiWox6eadwK",
        "colab_type": "text"
      },
      "source": [
        "**Imports**"
      ]
    },
    {
      "cell_type": "code",
      "metadata": {
        "id": "BHZdJX1haFJX",
        "colab_type": "code",
        "colab": {}
      },
      "source": [
        "#import statements\n",
        "import requests\n",
        "from matplotlib import pyplot\n",
        "from requests import exceptions\n",
        "import os"
      ],
      "execution_count": 0,
      "outputs": []
    },
    {
      "cell_type": "markdown",
      "metadata": {
        "id": "-qk7K10OaWE7",
        "colab_type": "text"
      },
      "source": [
        "**My private keys and settings**"
      ]
    },
    {
      "cell_type": "code",
      "metadata": {
        "id": "bE-zloHkaVSK",
        "colab_type": "code",
        "colab": {}
      },
      "source": [
        "API_KEY = \"ee402fbf91ba438a961ee37f6f99ebeb\"       # my API key, (might be expire now)\n",
        "MAX_RESULTS = 30\n",
        "GROUP_SIZE = 10\n",
        "URL = \"https://api.cognitive.microsoft.com/bing/v7.0/images/search\"\n",
        "ACCEPTABLE_FILE_SIZE=1024   #bytes\n"
      ],
      "execution_count": 0,
      "outputs": []
    },
    {
      "cell_type": "markdown",
      "metadata": {
        "id": "YQ-J4cHSal6L",
        "colab_type": "text"
      },
      "source": [
        "**Making parent directory of all downloaded images**\n",
        "\n",
        "*  This will make a directory under content folder within google colab home directory.\n",
        "\n",
        "\n",
        "\n",
        "\n",
        "  \n",
        "\n"
      ]
    },
    {
      "cell_type": "code",
      "metadata": {
        "id": "9DYxqOJNalbW",
        "colab_type": "code",
        "colab": {}
      },
      "source": [
        "directory='RawDatasets'\n",
        "if not os.path.exists(directory):\n",
        "  os.makedirs(directory)"
      ],
      "execution_count": 0,
      "outputs": []
    },
    {
      "cell_type": "code",
      "metadata": {
        "id": "zXCAEpzd--qS",
        "colab_type": "code",
        "outputId": "89d664cb-9dde-478f-94cb-c5da4af44734",
        "colab": {
          "base_uri": "https://localhost:8080/",
          "height": 34
        }
      },
      "source": [
        "ACTORS=['shahrukh khan', 'akshay kumar', 'aamir khan', 'salman khan', 'ayushmann khurrana', 'ranveer singh',\n",
        "       'Narendra modi','Donald trump', 'Mukesh ambani','A R rahman','Arijit singh', 'M S Dhoni','Virat kohli',\n",
        "       'Arun jetley','Sachin tendulkar']\n",
        "len(ACTORS)"
      ],
      "execution_count": 9,
      "outputs": [
        {
          "output_type": "execute_result",
          "data": {
            "text/plain": [
              "15"
            ]
          },
          "metadata": {
            "tags": []
          },
          "execution_count": 9
        }
      ]
    },
    {
      "cell_type": "code",
      "metadata": {
        "id": "TTS7fB5bXSlH",
        "colab_type": "code",
        "colab": {}
      },
      "source": [
        "\n",
        "EXCEPTIONS = set([IOError, FileNotFoundError,\n",
        "\texceptions.RequestException, exceptions.HTTPError,\n",
        "\texceptions.ConnectionError, exceptions.Timeout])\n",
        "\n",
        "\n",
        "\n",
        "ACTORS=['shahrukh khan', 'akshay kumar', 'aamir khan', 'salman khan', 'ayushmann khurrana', 'ranveer singh',\n",
        "       'Narendra modi','Donald trump', 'Mukesh ambani','A R rahman','Arijit singh', 'M S Dhoni','Virat kohli',\n",
        "       'Arun jetley','Sachin tendulkar']\n",
        "\n",
        "for actor in ACTORS:  \n",
        "  term = actor\n",
        "  if not os.path.exists(directory+'/'+term):\n",
        "    os.makedirs(directory+'/'+term)\n",
        "  \n",
        "  headers = {\"Ocp-Apim-Subscription-Key\" : API_KEY}\n",
        "  params = {\"q\": term, \"offset\": 0, \"count\": GROUP_SIZE}\n",
        "\n",
        "  # make the search\n",
        "  print(\"\\nSearching Bing API for '{}'\".format(term))\n",
        "  search = requests.get(URL, headers=headers, params=params)\n",
        "  search.raise_for_status()\n",
        "\n",
        "  # grab the results from the search, including the total number of\n",
        "  # estimated results returned by the Bing API\n",
        "  results = search.json()\n",
        "  estNumResults = min(results[\"totalEstimatedMatches\"], MAX_RESULTS)\n",
        "  print(\"Found {} results for '{}'.\".format(estNumResults,term))\n",
        "  total = 0\n",
        "  for offset in range(0, estNumResults, GROUP_SIZE):\n",
        "    print(\"Making request for group {}-{} of {}...\".format(offset, offset + GROUP_SIZE,\n",
        "                                                                  estNumResults))\n",
        "    params[\"offset\"] = offset\t  \n",
        "    search = requests.get(URL, headers=headers, params=params)\n",
        "    search.raise_for_status()\n",
        "    results = search.json()\n",
        "\t  \n",
        "\t  #print(\"Saving images for group {}-{} of {}...\".format(\n",
        "\t\t# offset, offset + GROUP_SIZE, estNumResults))\n",
        "    \n",
        "    for v in results[\"value\"]:\n",
        "      \n",
        "      try:\n",
        "        r = requests.get(v[\"contentUrl\"], timeout=30)\n",
        "        ext = v[\"contentUrl\"][v[\"contentUrl\"].rfind(\".\"):]\n",
        "\t\t\t   # build the path to the output image\n",
        "\t\t\t  \n",
        "        filename = os.path.sep.join([directory,term, \"{}{}\".format(str(total).zfill(8), ext)])\n",
        "\n",
        "\t\t\t   # write the image to disk\n",
        "        f = open(filename, \"wb\")\n",
        "        f.write(r.content)\n",
        "        f.close()\n",
        "\n",
        "\t\t  # catch any errors that would not unable us to download the image\n",
        "      except Exception as e:\n",
        "        if type(e) in EXCEPTIONS:\n",
        "          print(\"Skipping this for  error\")\n",
        "          continue\n",
        "      \n",
        "      if os.path.getsize(filename)<ACCEPTABLE_FILE_SIZE or :\n",
        "        os.remove(filename)\n",
        "        continue\n",
        "      \n",
        "      \n",
        "      total+=1 \n",
        "print(\"\\nAll processes fetching done...\")"
      ],
      "execution_count": 0,
      "outputs": []
    },
    {
      "cell_type": "markdown",
      "metadata": {
        "id": "lvveIA0zjud9",
        "colab_type": "text"
      },
      "source": [
        "# **Cropping only to face**\n",
        "For this i am using MTCNN packages."
      ]
    },
    {
      "cell_type": "markdown",
      "metadata": {
        "id": "4yMY4f4_msWz",
        "colab_type": "text"
      },
      "source": [
        "Downloading MTCNN"
      ]
    },
    {
      "cell_type": "code",
      "metadata": {
        "id": "mhUzAtdlmDVN",
        "colab_type": "code",
        "colab": {}
      },
      "source": [
        "!pip3 install MTCNN"
      ],
      "execution_count": 0,
      "outputs": []
    },
    {
      "cell_type": "code",
      "metadata": {
        "id": "CSRNv1iBvR1k",
        "colab_type": "code",
        "colab": {}
      },
      "source": [
        "!rm -r cropped_faces"
      ],
      "execution_count": 0,
      "outputs": []
    },
    {
      "cell_type": "markdown",
      "metadata": {
        "id": "pYu1tPX0nrSV",
        "colab_type": "text"
      },
      "source": [
        "Imports"
      ]
    },
    {
      "cell_type": "code",
      "metadata": {
        "id": "KZ0NE4Drm27p",
        "colab_type": "code",
        "colab": {}
      },
      "source": [
        "from mtcnn.mtcnn import MTCNN"
      ],
      "execution_count": 0,
      "outputs": []
    },
    {
      "cell_type": "code",
      "metadata": {
        "id": "WVBg9x7Gn2GM",
        "colab_type": "code",
        "colab": {}
      },
      "source": [
        "def save_faces(directory):    \n",
        "    dest='cropped_faces'\n",
        "    passed=[]\n",
        "    failed=[]\n",
        "    totalFiles=0\n",
        "    detector = MTCNN()\n",
        "    for Dir in os.listdir(directory):\n",
        "        aDir=os.path.join(directory, Dir)\n",
        "        print(\"In directory: \"+Dir)\n",
        "        for file in os.listdir(aDir):            \n",
        "            aFile=os.path.join(aDir, file)\n",
        "            if os.path.isfile(aFile):                \n",
        "                totalFiles+=1\n",
        "                # load image from file\n",
        "                \n",
        "                try:\n",
        "                    pixels = pyplot.imread(aFile)\n",
        "                    # detect faces in the image\n",
        "                    faces = detector.detect_faces(pixels)\n",
        "\n",
        "                    # display faces on the original image\n",
        "                    #print(aFile)\n",
        "                    \n",
        "                    for face in range(len(faces)):\n",
        "                        x1,y1,width,height=faces[face]['box']\n",
        "                        x2,y2=x1+width, y1+height\n",
        "                        x1=abs(x1)\n",
        "                        x2=abs(x2)\n",
        "                        y1=abs(y1)\n",
        "                        y2=abs(y2)\n",
        "                        dest_dir=os.path.join(dest, Dir)\n",
        "                        if not os.path.exists(dest_dir):\n",
        "                            os.makedirs(dest_dir)\n",
        "                        pyplot.imsave( dest_dir+'/'+str(face)+file, pixels[y1:y2, x1:x2])                    \n",
        "                    passed.append(aFile)\n",
        "                except:\n",
        "                    failed.append(aFile)\n",
        "    print(\"Printing failed list..............\")\n",
        "    print(failed)\n",
        "    print(\"Printed failed list..............\")\n",
        "    print(\"Total files: \",totalFiles)\n",
        "    print(\"Passed: \",len(passed))\n",
        "    print(\"Failed: \",len(failed))"
      ],
      "execution_count": 0,
      "outputs": []
    },
    {
      "cell_type": "markdown",
      "metadata": {
        "id": "HUFR0kKQoGA0",
        "colab_type": "text"
      },
      "source": [
        "Calling save_faces()"
      ]
    },
    {
      "cell_type": "code",
      "metadata": {
        "id": "sYUcbFzLoJ01",
        "colab_type": "code",
        "colab": {}
      },
      "source": [
        "\n",
        "save_faces(directory)"
      ],
      "execution_count": 0,
      "outputs": []
    },
    {
      "cell_type": "markdown",
      "metadata": {
        "id": "38gUqleewi9y",
        "colab_type": "text"
      },
      "source": [
        "**Size of Contents of cropped_faces folder is not so heavy**\n",
        "So i suggest you to transfer it to your googl drive,\n",
        "Because API key will not last for too long....\n",
        "\n",
        "*   If you want to do so,\n",
        "*   Run below 2 sections of codes\n",
        "\n"
      ]
    },
    {
      "cell_type": "code",
      "metadata": {
        "id": "YBiyB91uwXkV",
        "colab_type": "code",
        "colab": {}
      },
      "source": [
        "from google.colab import drive\n",
        "drive.mount('/content/drive')"
      ],
      "execution_count": 0,
      "outputs": []
    },
    {
      "cell_type": "code",
      "metadata": {
        "id": "MgR_anbEwhqH",
        "colab_type": "code",
        "colab": {}
      },
      "source": [
        "!cp -r cropped_faces 'drive/My Drive'"
      ],
      "execution_count": 0,
      "outputs": []
    },
    {
      "cell_type": "markdown",
      "metadata": {
        "id": "6x4LCO1Xkg0X",
        "colab_type": "text"
      },
      "source": [
        "# Read images back from drive into cropped_faces\n",
        " Its my personal view not to make my drive dirty and do all work on temporary sample_data. If you want so then,\n",
        "1. Mount drive to colab"
      ]
    },
    {
      "cell_type": "code",
      "metadata": {
        "id": "3SfWrxBQlEv-",
        "colab_type": "code",
        "outputId": "874c23d0-1918-4a66-bfb2-3213b1ef47a8",
        "colab": {
          "base_uri": "https://localhost:8080/",
          "height": 124
        }
      },
      "source": [
        "from google.colab import drive\n",
        "drive.mount('/content/drive')"
      ],
      "execution_count": 1,
      "outputs": [
        {
          "output_type": "stream",
          "text": [
            "Go to this URL in a browser: https://accounts.google.com/o/oauth2/auth?client_id=947318989803-6bn6qk8qdgf4n4g3pfee6491hc0brc4i.apps.googleusercontent.com&redirect_uri=urn%3Aietf%3Awg%3Aoauth%3A2.0%3Aoob&scope=email%20https%3A%2F%2Fwww.googleapis.com%2Fauth%2Fdocs.test%20https%3A%2F%2Fwww.googleapis.com%2Fauth%2Fdrive%20https%3A%2F%2Fwww.googleapis.com%2Fauth%2Fdrive.photos.readonly%20https%3A%2F%2Fwww.googleapis.com%2Fauth%2Fpeopleapi.readonly&response_type=code\n",
            "\n",
            "Enter your authorization code:\n",
            "··········\n",
            "Mounted at /content/drive\n"
          ],
          "name": "stdout"
        }
      ]
    },
    {
      "cell_type": "markdown",
      "metadata": {
        "id": "ZrEfaTchcg3r",
        "colab_type": "text"
      },
      "source": [
        "2. Copy cropped_faces to local\n",
        "\n",
        "  While copying the images, i had to face some issues for which i had to close the browser's tab so to re-open and get chance to re-mount. If you' re facing any issue while running the below code then try on your own at first... re-starting should be the last option."
      ]
    },
    {
      "cell_type": "code",
      "metadata": {
        "id": "BQvLYL-bcsoz",
        "colab_type": "code",
        "colab": {}
      },
      "source": [
        "!cp -r 'drive/My Drive/cropped_faces' 'sample_data'"
      ],
      "execution_count": 0,
      "outputs": []
    },
    {
      "cell_type": "code",
      "metadata": {
        "id": "VxypY_rDqFYq",
        "colab_type": "code",
        "colab": {}
      },
      "source": [
        "import os\n",
        "os.chdir('sample_data/cropped_faces/')"
      ],
      "execution_count": 0,
      "outputs": []
    },
    {
      "cell_type": "markdown",
      "metadata": {
        "id": "BV-IYIx8o0x7",
        "colab_type": "text"
      },
      "source": [
        "#All data are ready , now making ready to train..."
      ]
    },
    {
      "cell_type": "markdown",
      "metadata": {
        "id": "yKxxerCiqEK5",
        "colab_type": "text"
      },
      "source": [
        "**Making testing and valid datasets**\n",
        "\n",
        "This below code will create train and valid folders and \n",
        "\n",
        "> Then each category set will have entry as sub-folder in train and valid then\n",
        "\n",
        "> as per val_percentage's value each set will divide randomly into 2 parts and copied into train and valid\n",
        "\n",
        "\n",
        "\n",
        "\n"
      ]
    },
    {
      "cell_type": "code",
      "metadata": {
        "id": "wkWNBmiqqCKp",
        "colab_type": "code",
        "colab": {}
      },
      "source": [
        "#needed to shuffle lists\n",
        "import random\n",
        "#to copy files\n",
        "from shutil import copyfile\n",
        "#some constants\n",
        "\n",
        "train_dir=\"train\"\n",
        "val_dir=\"valid\"\n",
        "val_percentage=15   # from 0 to 100\n",
        "\n",
        "dataSets=os.listdir()\n",
        "\n",
        "\"\"\"\n",
        "dataSets should include only category folders, not train and valid\n",
        "\"\"\"\n",
        "if train_dir not in dataSets:\n",
        "    os.mkdir(train_dir)\n",
        "else:\n",
        "    dataSets.pop(dataSets.index(train_dir))\n",
        "\n",
        "if val_dir not in dataSets:\n",
        "    os.mkdir(val_dir)\n",
        "else:\n",
        "    dataSets.pop(dataSets.index(val_dir))\n",
        "\n",
        "train_loc = os.path.realpath(train_dir)\n",
        "val_loc = os.path.realpath(val_dir)\n",
        "\n",
        "for each_set in dataSets:    \n",
        "    \n",
        "    population=len(os.listdir(each_set))     # total numbers of images in each_set\n",
        "    train_file_numbers=int(population*(100-val_percentage)/100)\n",
        "    random.shuffle(os.listdir(each_set))\n",
        "    shuffled_list=os.listdir(each_set)\n",
        "\n",
        "    fileLocn=os.path.join(train_loc,each_set)    \n",
        "    os.makedirs(fileLocn)        # creating sub-folders\n",
        "    \n",
        "    train_set= shuffled_list[:train_file_numbers]       # selecting first train_file_numbers\n",
        "    \n",
        "    for each_file in train_set:\n",
        "        src =os.path.join(os.getcwd(),each_set,each_file)        \n",
        "        copyfile(src, os.path.join(fileLocn, each_file))            #copying to train folders\n",
        "        \n",
        "    fileLocn=os.path.join(val_loc,each_set)\n",
        "    os.makedirs(fileLocn)\n",
        "    \n",
        "    valid_set = shuffled_list[train_file_numbers: ]         # selecting remaining images \n",
        "\n",
        "    for each_file in valid_set:\n",
        "        src =os.path.join(os.getcwd(),each_set,each_file)        \n",
        "        copyfile(src, os.path.join(fileLocn, each_file))           #copying to valid folders"
      ],
      "execution_count": 0,
      "outputs": []
    },
    {
      "cell_type": "markdown",
      "metadata": {
        "id": "Z2Sv4EgN8rN_",
        "colab_type": "text"
      },
      "source": [
        "**Downloading required packages**\n",
        "\n",
        "Maybe skipped if already available"
      ]
    },
    {
      "cell_type": "code",
      "metadata": {
        "id": "jzQHTa8R81dw",
        "colab_type": "code",
        "colab": {}
      },
      "source": [
        "!pip install tensorflow\n",
        "!pip install keras"
      ],
      "execution_count": 0,
      "outputs": []
    },
    {
      "cell_type": "code",
      "metadata": {
        "id": "YP2-Bovm-C5S",
        "colab_type": "code",
        "outputId": "6494c771-5b61-4f50-d1e0-e5d4182a4fe7",
        "colab": {
          "base_uri": "https://localhost:8080/",
          "height": 34
        }
      },
      "source": [
        "os.getcwd()"
      ],
      "execution_count": 0,
      "outputs": [
        {
          "output_type": "execute_result",
          "data": {
            "text/plain": [
              "'/content/sample_data/cropped_faces'"
            ]
          },
          "metadata": {
            "tags": []
          },
          "execution_count": 10
        }
      ]
    },
    {
      "cell_type": "markdown",
      "metadata": {
        "id": "QfYs0xN8pMYZ",
        "colab_type": "text"
      },
      "source": [
        "**Importing all required packages**"
      ]
    },
    {
      "cell_type": "code",
      "metadata": {
        "id": "VSPSS09eepFw",
        "colab_type": "code",
        "colab": {
          "base_uri": "https://localhost:8080/",
          "height": 34
        },
        "outputId": "6517a285-9886-4820-84ef-cb51218aba0f"
      },
      "source": [
        "from keras.preprocessing.image import *\n",
        "from sklearn.utils import shuffle\n",
        "import tensorflow as tf\n",
        "\n",
        "import numpy as np\n",
        "from sklearn.preprocessing import LabelBinarizer\n",
        "\n",
        "from keras.models import Sequential\n",
        "from keras.layers import *\n",
        "from keras import regularizers\n",
        "from keras.optimizers import *\n",
        "\n",
        "tf.logging.set_verbosity(tf.logging.ERROR)    # for logging errors, helpful"
      ],
      "execution_count": 7,
      "outputs": [
        {
          "output_type": "stream",
          "text": [
            "Using TensorFlow backend.\n"
          ],
          "name": "stderr"
        }
      ]
    },
    {
      "cell_type": "markdown",
      "metadata": {
        "id": "LpVuC54LerEX",
        "colab_type": "text"
      },
      "source": [
        "**Model building now**"
      ]
    },
    {
      "cell_type": "code",
      "metadata": {
        "id": "hugK5r4ulXil",
        "colab_type": "code",
        "colab": {
          "base_uri": "https://localhost:8080/",
          "height": 573
        },
        "outputId": "72d3c242-b545-4a10-f226-511a3814e4a0"
      },
      "source": [
        "BATCH_SIZE=10\n",
        "IMG_SHAPE=150\n",
        "\n",
        "reg=10**(np.random.uniform(-4,0))\n",
        "lr=10**(np.random.uniform(-3,-4))\n",
        "\n",
        "train_image_generator      = ImageDataGenerator(rescale=1./255)  # Generator for our training data\n",
        "validation_image_generator = ImageDataGenerator(rescale=1./255)  # Generator for our validation data\n",
        "\n",
        "TRAIN_DIR=os.path.join(os.getcwd(),'train')\n",
        "VALID_DIR=os.path.join(os.getcwd(),'valid')\n",
        "\n",
        "train_data_gen = train_image_generator.flow_from_directory(batch_size=BATCH_SIZE, \n",
        "                                                           directory=TRAIN_DIR, \n",
        "                                                           shuffle=True, \n",
        "                                                           target_size=(IMG_SHAPE,IMG_SHAPE), #(150,150) \n",
        "                                                           class_mode='categorical')\n",
        "\n",
        "val_data_gen = validation_image_generator.flow_from_directory(batch_size=BATCH_SIZE, \n",
        "                                                              directory=VALID_DIR,\n",
        "                                                              shuffle=False,\n",
        "                                                              target_size=(IMG_SHAPE,IMG_SHAPE), #(150,150)\n",
        "                                                              class_mode='categorical')\n",
        "\n",
        "#MODEL 1\n",
        "\n",
        "#model = tf.keras.models.Sequential([\n",
        "#    tf.keras.layers.Conv2D(32, (3,3), activation='relu', input_shape=(150, 150, 3)),\n",
        "#    tf.keras.layers.MaxPooling2D(2, 2),\n",
        "#\n",
        "#    tf.keras.layers.Conv2D(64, (3,3), activation='relu'),\n",
        "#    tf.keras.layers.MaxPooling2D(2,2),\n",
        "#    \n",
        "#    tf.keras.layers.Conv2D(128, (3,3), activation='relu'),\n",
        "#    tf.keras.layers.MaxPooling2D(2,2),\n",
        "#    \n",
        "#    tf.keras.layers.Conv2D(128, (3,3), activation='relu'),\n",
        "#    tf.keras.layers.MaxPooling2D(2,2),\n",
        "#    \n",
        "#    tf.keras.layers.Flatten(),\n",
        "#    tf.keras.layers.Dense(512, activation='relu'),\n",
        "#    tf.keras.layers.Dense(6, activation='softmax')\n",
        "#])\n",
        "#    \n",
        "\n",
        "# COMPILE MODEL\n",
        "    \n",
        "#model.compile(optimizer='adam', \n",
        "#              loss='sparse_categorical_crossentropy',\n",
        "#              metrics=['accuracy'])\n",
        "\n",
        "\n",
        "#MODEL 2\n",
        "\n",
        "#model=Sequential()\n",
        "\n",
        "#model.add( InputLayer( input_shape=[150,150,3] )  )\n",
        "\n",
        "#model.add( Conv2D( filters=14, kernel_size=5, strides=1, padding='same', activation='relu' ))\n",
        "#model.add(MaxPool2D(pool_size=5, padding='same'))\n",
        " \n",
        "#model.add( Conv2D( filters=40, kernel_size=5, strides=1, padding='same', activation='relu' ))\n",
        "#model.add(MaxPool2D(pool_size=5, padding='same'))\n",
        "\n",
        "#model.add( Conv2D( filters=100, kernel_size=5, strides=1, padding='same', activation='relu' ))\n",
        "#model.add(MaxPool2D(pool_size=5, padding='same'))\n",
        "\n",
        "#model.add(Dropout(0.25))\n",
        "#model.add(Flatten())\n",
        "#model.add(Dense(6, activation='relu'))\n",
        "#model.add(Dropout(rate=0.5))\n",
        "#optimizer=Adam(lr=1e-3)\n",
        "\n",
        "#model.compile(optimizer=optimizer, \n",
        "#              loss='categorical_crossentropy',\n",
        "#              metrics=['accuracy'])    \n",
        "\n",
        "\n",
        "#MODEL 3\n",
        "\n",
        "model=Sequential()\n",
        "\n",
        "model.add(Conv2D(32,(3,3),activation='relu',input_shape=(IMG_SHAPE,IMG_SHAPE,3)))\n",
        "\n",
        "model.add(MaxPooling2D((2,2)))\n",
        "\n",
        "model.add(Conv2D(64,(3,3),activation='relu'))\n",
        "\n",
        "model.add(MaxPooling2D(2,2))\n",
        "\n",
        "model.add(Conv2D(128,(3,3),activation='relu'))\n",
        "\n",
        "model.add(MaxPooling2D((2,2)))\n",
        "\n",
        "model.add(Conv2D(128,(3,3),activation='relu'))\n",
        "\n",
        "model.add(MaxPooling2D((2,2)))\n",
        "\n",
        "model.add(Flatten())\n",
        "\n",
        "model.add(Dense(512,activation='relu',kernel_regularizer=regularizers.l2(reg)))\n",
        "\n",
        "model.add(Dense(len(ACTORS) ,activation='sigmoid',kernel_regularizer=regularizers.l2(reg)))\n",
        "\n",
        "model.compile(loss='binary_crossentropy',\n",
        "              optimizer=RMSprop(lr=lr),\n",
        "             metrics=['accuracy'])\n",
        "\n",
        "model.summary()"
      ],
      "execution_count": 10,
      "outputs": [
        {
          "output_type": "stream",
          "text": [
            "Found 383 images belonging to 15 classes.\n",
            "Found 74 images belonging to 15 classes.\n",
            "Model: \"sequential_2\"\n",
            "_________________________________________________________________\n",
            "Layer (type)                 Output Shape              Param #   \n",
            "=================================================================\n",
            "conv2d_5 (Conv2D)            (None, 148, 148, 32)      896       \n",
            "_________________________________________________________________\n",
            "max_pooling2d_5 (MaxPooling2 (None, 74, 74, 32)        0         \n",
            "_________________________________________________________________\n",
            "conv2d_6 (Conv2D)            (None, 72, 72, 64)        18496     \n",
            "_________________________________________________________________\n",
            "max_pooling2d_6 (MaxPooling2 (None, 36, 36, 64)        0         \n",
            "_________________________________________________________________\n",
            "conv2d_7 (Conv2D)            (None, 34, 34, 128)       73856     \n",
            "_________________________________________________________________\n",
            "max_pooling2d_7 (MaxPooling2 (None, 17, 17, 128)       0         \n",
            "_________________________________________________________________\n",
            "conv2d_8 (Conv2D)            (None, 15, 15, 128)       147584    \n",
            "_________________________________________________________________\n",
            "max_pooling2d_8 (MaxPooling2 (None, 7, 7, 128)         0         \n",
            "_________________________________________________________________\n",
            "flatten_2 (Flatten)          (None, 6272)              0         \n",
            "_________________________________________________________________\n",
            "dense_2 (Dense)              (None, 512)               3211776   \n",
            "_________________________________________________________________\n",
            "dense_3 (Dense)              (None, 15)                7695      \n",
            "=================================================================\n",
            "Total params: 3,460,303\n",
            "Trainable params: 3,460,303\n",
            "Non-trainable params: 0\n",
            "_________________________________________________________________\n"
          ],
          "name": "stdout"
        }
      ]
    },
    {
      "cell_type": "markdown",
      "metadata": {
        "id": "oeUmjnTyf2-p",
        "colab_type": "text"
      },
      "source": [
        "**The time is now, Training**"
      ]
    },
    {
      "cell_type": "code",
      "metadata": {
        "id": "QggNt-iCf-B1",
        "colab_type": "code",
        "colab": {
          "base_uri": "https://localhost:8080/",
          "height": 1000
        },
        "outputId": "05a11ef4-c8ff-4c60-ae91-39465a2206ba"
      },
      "source": [
        "def totalFiles(directory):\n",
        "    total = 0\n",
        "    for root, dirs, files in os.walk(directory):\n",
        "        total += len(files)\n",
        "    return total\n",
        "\n",
        "EPOCHS = 100\n",
        "total_train=totalFiles(TRAIN_DIR)\n",
        "total_val=totalFiles(VALID_DIR)\n",
        "\n",
        "history = model.fit_generator(\n",
        "    train_data_gen,\n",
        "    steps_per_epoch=int(np.ceil(total_train / float(BATCH_SIZE))),\n",
        "    epochs=EPOCHS,\n",
        "    validation_data=val_data_gen,\n",
        "    validation_steps=int(np.ceil(total_val / float(BATCH_SIZE)))\n",
        ")"
      ],
      "execution_count": 19,
      "outputs": [
        {
          "output_type": "stream",
          "text": [
            "Epoch 1/100\n",
            "39/39 [==============================] - 2s 58ms/step - loss: 0.2563 - acc: 0.9333 - val_loss: 0.2563 - val_acc: 0.9333\n",
            "Epoch 2/100\n",
            "39/39 [==============================] - 2s 54ms/step - loss: 0.2560 - acc: 0.9333 - val_loss: 0.2549 - val_acc: 0.9333\n",
            "Epoch 3/100\n",
            "39/39 [==============================] - 2s 53ms/step - loss: 0.2563 - acc: 0.9333 - val_loss: 0.2578 - val_acc: 0.9333\n",
            "Epoch 4/100\n",
            "39/39 [==============================] - 2s 53ms/step - loss: 0.2568 - acc: 0.9333 - val_loss: 0.2548 - val_acc: 0.9333\n",
            "Epoch 5/100\n",
            "39/39 [==============================] - 2s 53ms/step - loss: 0.2560 - acc: 0.9333 - val_loss: 0.2552 - val_acc: 0.9333\n",
            "Epoch 6/100\n",
            "39/39 [==============================] - 2s 53ms/step - loss: 0.2564 - acc: 0.9333 - val_loss: 0.2553 - val_acc: 0.9333\n",
            "Epoch 7/100\n",
            "39/39 [==============================] - 2s 52ms/step - loss: 0.2564 - acc: 0.9333 - val_loss: 0.2547 - val_acc: 0.9333\n",
            "Epoch 8/100\n",
            "39/39 [==============================] - 2s 54ms/step - loss: 0.2562 - acc: 0.9333 - val_loss: 0.2553 - val_acc: 0.9333\n",
            "Epoch 9/100\n",
            "39/39 [==============================] - 2s 52ms/step - loss: 0.2562 - acc: 0.9333 - val_loss: 0.2557 - val_acc: 0.9333\n",
            "Epoch 10/100\n",
            "39/39 [==============================] - 2s 51ms/step - loss: 0.2561 - acc: 0.9333 - val_loss: 0.2543 - val_acc: 0.9333\n",
            "Epoch 11/100\n",
            "39/39 [==============================] - 2s 53ms/step - loss: 0.2565 - acc: 0.9333 - val_loss: 0.2544 - val_acc: 0.9333\n",
            "Epoch 12/100\n",
            "39/39 [==============================] - 2s 53ms/step - loss: 0.2560 - acc: 0.9333 - val_loss: 0.2545 - val_acc: 0.9333\n",
            "Epoch 13/100\n",
            "39/39 [==============================] - 2s 53ms/step - loss: 0.2558 - acc: 0.9333 - val_loss: 0.2551 - val_acc: 0.9333\n",
            "Epoch 14/100\n",
            "39/39 [==============================] - 2s 52ms/step - loss: 0.2568 - acc: 0.9333 - val_loss: 0.2545 - val_acc: 0.9333\n",
            "Epoch 15/100\n",
            "39/39 [==============================] - 2s 54ms/step - loss: 0.2556 - acc: 0.9333 - val_loss: 0.2582 - val_acc: 0.9333\n",
            "Epoch 16/100\n",
            "39/39 [==============================] - 2s 53ms/step - loss: 0.2566 - acc: 0.9333 - val_loss: 0.2551 - val_acc: 0.9333\n",
            "Epoch 17/100\n",
            "39/39 [==============================] - 2s 52ms/step - loss: 0.2562 - acc: 0.9333 - val_loss: 0.2545 - val_acc: 0.9333\n",
            "Epoch 18/100\n",
            "39/39 [==============================] - 2s 51ms/step - loss: 0.2564 - acc: 0.9333 - val_loss: 0.2554 - val_acc: 0.9333\n",
            "Epoch 19/100\n",
            "39/39 [==============================] - 2s 52ms/step - loss: 0.2563 - acc: 0.9333 - val_loss: 0.2561 - val_acc: 0.9333\n",
            "Epoch 20/100\n",
            "39/39 [==============================] - 2s 53ms/step - loss: 0.2562 - acc: 0.9333 - val_loss: 0.2547 - val_acc: 0.9333\n",
            "Epoch 21/100\n",
            "39/39 [==============================] - 2s 52ms/step - loss: 0.2562 - acc: 0.9333 - val_loss: 0.2553 - val_acc: 0.9333\n",
            "Epoch 22/100\n",
            "39/39 [==============================] - 2s 52ms/step - loss: 0.2560 - acc: 0.9333 - val_loss: 0.2552 - val_acc: 0.9333\n",
            "Epoch 23/100\n",
            "39/39 [==============================] - 2s 53ms/step - loss: 0.2561 - acc: 0.9333 - val_loss: 0.2557 - val_acc: 0.9333\n",
            "Epoch 24/100\n",
            "39/39 [==============================] - 2s 53ms/step - loss: 0.2561 - acc: 0.9333 - val_loss: 0.2546 - val_acc: 0.9333\n",
            "Epoch 25/100\n",
            "39/39 [==============================] - 2s 53ms/step - loss: 0.2560 - acc: 0.9333 - val_loss: 0.2549 - val_acc: 0.9333\n",
            "Epoch 26/100\n",
            "39/39 [==============================] - 2s 52ms/step - loss: 0.2560 - acc: 0.9333 - val_loss: 0.2549 - val_acc: 0.9333\n",
            "Epoch 27/100\n",
            "39/39 [==============================] - 2s 51ms/step - loss: 0.2562 - acc: 0.9333 - val_loss: 0.2544 - val_acc: 0.9333\n",
            "Epoch 28/100\n",
            "39/39 [==============================] - 2s 52ms/step - loss: 0.2562 - acc: 0.9333 - val_loss: 0.2543 - val_acc: 0.9333\n",
            "Epoch 29/100\n",
            "39/39 [==============================] - 2s 55ms/step - loss: 0.2560 - acc: 0.9333 - val_loss: 0.2557 - val_acc: 0.9333\n",
            "Epoch 30/100\n",
            "39/39 [==============================] - 2s 54ms/step - loss: 0.2564 - acc: 0.9333 - val_loss: 0.2545 - val_acc: 0.9333\n",
            "Epoch 31/100\n",
            "39/39 [==============================] - 2s 54ms/step - loss: 0.2557 - acc: 0.9333 - val_loss: 0.2549 - val_acc: 0.9333\n",
            "Epoch 32/100\n",
            "39/39 [==============================] - 2s 53ms/step - loss: 0.2560 - acc: 0.9333 - val_loss: 0.2545 - val_acc: 0.9333\n",
            "Epoch 33/100\n",
            "39/39 [==============================] - 2s 54ms/step - loss: 0.2564 - acc: 0.9333 - val_loss: 0.2549 - val_acc: 0.9333\n",
            "Epoch 34/100\n",
            "39/39 [==============================] - 2s 52ms/step - loss: 0.2561 - acc: 0.9333 - val_loss: 0.2555 - val_acc: 0.9333\n",
            "Epoch 35/100\n",
            "39/39 [==============================] - 2s 53ms/step - loss: 0.2557 - acc: 0.9333 - val_loss: 0.2548 - val_acc: 0.9333\n",
            "Epoch 36/100\n",
            "39/39 [==============================] - 2s 52ms/step - loss: 0.2560 - acc: 0.9333 - val_loss: 0.2554 - val_acc: 0.9333\n",
            "Epoch 37/100\n",
            "39/39 [==============================] - 2s 52ms/step - loss: 0.2562 - acc: 0.9333 - val_loss: 0.2548 - val_acc: 0.9333\n",
            "Epoch 38/100\n",
            "39/39 [==============================] - 2s 51ms/step - loss: 0.2557 - acc: 0.9333 - val_loss: 0.2547 - val_acc: 0.9333\n",
            "Epoch 39/100\n",
            "39/39 [==============================] - 2s 50ms/step - loss: 0.2558 - acc: 0.9333 - val_loss: 0.2544 - val_acc: 0.9333\n",
            "Epoch 40/100\n",
            "39/39 [==============================] - 2s 53ms/step - loss: 0.2556 - acc: 0.9333 - val_loss: 0.2548 - val_acc: 0.9333\n",
            "Epoch 41/100\n",
            "39/39 [==============================] - 2s 52ms/step - loss: 0.2557 - acc: 0.9333 - val_loss: 0.2556 - val_acc: 0.9333\n",
            "Epoch 42/100\n",
            "39/39 [==============================] - 2s 52ms/step - loss: 0.2560 - acc: 0.9333 - val_loss: 0.2544 - val_acc: 0.9333\n",
            "Epoch 43/100\n",
            "39/39 [==============================] - 2s 52ms/step - loss: 0.2553 - acc: 0.9333 - val_loss: 0.2543 - val_acc: 0.9333\n",
            "Epoch 44/100\n",
            "39/39 [==============================] - 2s 53ms/step - loss: 0.2556 - acc: 0.9333 - val_loss: 0.2550 - val_acc: 0.9333\n",
            "Epoch 45/100\n",
            "39/39 [==============================] - 2s 52ms/step - loss: 0.2556 - acc: 0.9333 - val_loss: 0.2541 - val_acc: 0.9333\n",
            "Epoch 46/100\n",
            "39/39 [==============================] - 2s 52ms/step - loss: 0.2553 - acc: 0.9333 - val_loss: 0.2549 - val_acc: 0.9333\n",
            "Epoch 47/100\n",
            "39/39 [==============================] - 2s 54ms/step - loss: 0.2552 - acc: 0.9333 - val_loss: 0.2548 - val_acc: 0.9333\n",
            "Epoch 48/100\n",
            "39/39 [==============================] - 2s 53ms/step - loss: 0.2554 - acc: 0.9333 - val_loss: 0.2541 - val_acc: 0.9333\n",
            "Epoch 49/100\n",
            "39/39 [==============================] - 2s 53ms/step - loss: 0.2551 - acc: 0.9333 - val_loss: 0.2541 - val_acc: 0.9333\n",
            "Epoch 50/100\n",
            "39/39 [==============================] - 2s 52ms/step - loss: 0.2548 - acc: 0.9333 - val_loss: 0.2555 - val_acc: 0.9333\n",
            "Epoch 51/100\n",
            "39/39 [==============================] - 2s 52ms/step - loss: 0.2552 - acc: 0.9333 - val_loss: 0.2543 - val_acc: 0.9333\n",
            "Epoch 52/100\n",
            "39/39 [==============================] - 2s 53ms/step - loss: 0.2550 - acc: 0.9333 - val_loss: 0.2541 - val_acc: 0.9333\n",
            "Epoch 53/100\n",
            "39/39 [==============================] - 2s 52ms/step - loss: 0.2552 - acc: 0.9333 - val_loss: 0.2537 - val_acc: 0.9333\n",
            "Epoch 54/100\n",
            "39/39 [==============================] - 2s 53ms/step - loss: 0.2551 - acc: 0.9333 - val_loss: 0.2539 - val_acc: 0.9333\n",
            "Epoch 55/100\n",
            "39/39 [==============================] - 2s 53ms/step - loss: 0.2553 - acc: 0.9333 - val_loss: 0.2538 - val_acc: 0.9333\n",
            "Epoch 56/100\n",
            "39/39 [==============================] - 2s 53ms/step - loss: 0.2550 - acc: 0.9333 - val_loss: 0.2548 - val_acc: 0.9333\n",
            "Epoch 57/100\n",
            "39/39 [==============================] - 2s 51ms/step - loss: 0.2551 - acc: 0.9333 - val_loss: 0.2544 - val_acc: 0.9333\n",
            "Epoch 58/100\n",
            "39/39 [==============================] - 2s 52ms/step - loss: 0.2552 - acc: 0.9333 - val_loss: 0.2543 - val_acc: 0.9333\n",
            "Epoch 59/100\n",
            "39/39 [==============================] - 2s 52ms/step - loss: 0.2551 - acc: 0.9333 - val_loss: 0.2539 - val_acc: 0.9333\n",
            "Epoch 60/100\n",
            "39/39 [==============================] - 2s 52ms/step - loss: 0.2549 - acc: 0.9333 - val_loss: 0.2540 - val_acc: 0.9333\n",
            "Epoch 61/100\n",
            "39/39 [==============================] - 2s 51ms/step - loss: 0.2554 - acc: 0.9333 - val_loss: 0.2555 - val_acc: 0.9333\n",
            "Epoch 62/100\n",
            "39/39 [==============================] - 2s 52ms/step - loss: 0.2554 - acc: 0.9333 - val_loss: 0.2541 - val_acc: 0.9333\n",
            "Epoch 63/100\n",
            "39/39 [==============================] - 2s 53ms/step - loss: 0.2554 - acc: 0.9333 - val_loss: 0.2545 - val_acc: 0.9333\n",
            "Epoch 64/100\n",
            "39/39 [==============================] - 2s 50ms/step - loss: 0.2551 - acc: 0.9333 - val_loss: 0.2541 - val_acc: 0.9333\n",
            "Epoch 65/100\n",
            "39/39 [==============================] - 2s 53ms/step - loss: 0.2555 - acc: 0.9333 - val_loss: 0.2545 - val_acc: 0.9333\n",
            "Epoch 66/100\n",
            "39/39 [==============================] - 2s 53ms/step - loss: 0.2552 - acc: 0.9333 - val_loss: 0.2542 - val_acc: 0.9333\n",
            "Epoch 67/100\n",
            "39/39 [==============================] - 2s 53ms/step - loss: 0.2553 - acc: 0.9333 - val_loss: 0.2544 - val_acc: 0.9333\n",
            "Epoch 68/100\n",
            "39/39 [==============================] - 2s 51ms/step - loss: 0.2551 - acc: 0.9333 - val_loss: 0.2541 - val_acc: 0.9333\n",
            "Epoch 69/100\n",
            "39/39 [==============================] - 2s 52ms/step - loss: 0.2549 - acc: 0.9333 - val_loss: 0.2544 - val_acc: 0.9333\n",
            "Epoch 70/100\n",
            "39/39 [==============================] - 2s 51ms/step - loss: 0.2553 - acc: 0.9333 - val_loss: 0.2539 - val_acc: 0.9333\n",
            "Epoch 71/100\n",
            "39/39 [==============================] - 2s 54ms/step - loss: 0.2553 - acc: 0.9333 - val_loss: 0.2545 - val_acc: 0.9333\n",
            "Epoch 72/100\n",
            "39/39 [==============================] - 2s 51ms/step - loss: 0.2553 - acc: 0.9333 - val_loss: 0.2547 - val_acc: 0.9333\n",
            "Epoch 73/100\n",
            "39/39 [==============================] - 2s 53ms/step - loss: 0.2551 - acc: 0.9333 - val_loss: 0.2542 - val_acc: 0.9333\n",
            "Epoch 74/100\n",
            "39/39 [==============================] - 2s 52ms/step - loss: 0.2551 - acc: 0.9333 - val_loss: 0.2538 - val_acc: 0.9333\n",
            "Epoch 75/100\n",
            "39/39 [==============================] - 2s 51ms/step - loss: 0.2552 - acc: 0.9333 - val_loss: 0.2539 - val_acc: 0.9333\n",
            "Epoch 76/100\n",
            "39/39 [==============================] - 2s 53ms/step - loss: 0.2552 - acc: 0.9333 - val_loss: 0.2551 - val_acc: 0.9333\n",
            "Epoch 77/100\n",
            "39/39 [==============================] - 2s 53ms/step - loss: 0.2555 - acc: 0.9333 - val_loss: 0.2546 - val_acc: 0.9333\n",
            "Epoch 78/100\n",
            "39/39 [==============================] - 2s 52ms/step - loss: 0.2552 - acc: 0.9333 - val_loss: 0.2551 - val_acc: 0.9333\n",
            "Epoch 79/100\n",
            "39/39 [==============================] - 2s 53ms/step - loss: 0.2551 - acc: 0.9333 - val_loss: 0.2542 - val_acc: 0.9333\n",
            "Epoch 80/100\n",
            "39/39 [==============================] - 2s 53ms/step - loss: 0.2555 - acc: 0.9333 - val_loss: 0.2542 - val_acc: 0.9333\n",
            "Epoch 81/100\n",
            "39/39 [==============================] - 2s 52ms/step - loss: 0.2550 - acc: 0.9333 - val_loss: 0.2539 - val_acc: 0.9333\n",
            "Epoch 82/100\n",
            "39/39 [==============================] - 2s 51ms/step - loss: 0.2549 - acc: 0.9333 - val_loss: 0.2550 - val_acc: 0.9333\n",
            "Epoch 83/100\n",
            "39/39 [==============================] - 2s 53ms/step - loss: 0.2555 - acc: 0.9333 - val_loss: 0.2544 - val_acc: 0.9333\n",
            "Epoch 84/100\n",
            "39/39 [==============================] - 2s 52ms/step - loss: 0.2553 - acc: 0.9333 - val_loss: 0.2545 - val_acc: 0.9333\n",
            "Epoch 85/100\n",
            "39/39 [==============================] - 2s 53ms/step - loss: 0.2552 - acc: 0.9333 - val_loss: 0.2538 - val_acc: 0.9333\n",
            "Epoch 86/100\n",
            "39/39 [==============================] - 2s 53ms/step - loss: 0.2550 - acc: 0.9333 - val_loss: 0.2542 - val_acc: 0.9333\n",
            "Epoch 87/100\n",
            "39/39 [==============================] - 2s 51ms/step - loss: 0.2550 - acc: 0.9333 - val_loss: 0.2542 - val_acc: 0.9333\n",
            "Epoch 88/100\n",
            "39/39 [==============================] - 2s 52ms/step - loss: 0.2553 - acc: 0.9333 - val_loss: 0.2541 - val_acc: 0.9333\n",
            "Epoch 89/100\n",
            "39/39 [==============================] - 2s 52ms/step - loss: 0.2553 - acc: 0.9333 - val_loss: 0.2542 - val_acc: 0.9333\n",
            "Epoch 90/100\n",
            "39/39 [==============================] - 2s 51ms/step - loss: 0.2549 - acc: 0.9333 - val_loss: 0.2538 - val_acc: 0.9333\n",
            "Epoch 91/100\n",
            "39/39 [==============================] - 2s 53ms/step - loss: 0.2551 - acc: 0.9333 - val_loss: 0.2538 - val_acc: 0.9333\n",
            "Epoch 92/100\n",
            "39/39 [==============================] - 2s 52ms/step - loss: 0.2553 - acc: 0.9333 - val_loss: 0.2540 - val_acc: 0.9333\n",
            "Epoch 93/100\n",
            "39/39 [==============================] - 2s 54ms/step - loss: 0.2552 - acc: 0.9333 - val_loss: 0.2538 - val_acc: 0.9333\n",
            "Epoch 94/100\n",
            "39/39 [==============================] - 2s 51ms/step - loss: 0.2550 - acc: 0.9333 - val_loss: 0.2548 - val_acc: 0.9333\n",
            "Epoch 95/100\n",
            "39/39 [==============================] - 2s 51ms/step - loss: 0.2553 - acc: 0.9333 - val_loss: 0.2547 - val_acc: 0.9333\n",
            "Epoch 96/100\n",
            "39/39 [==============================] - 2s 53ms/step - loss: 0.2549 - acc: 0.9333 - val_loss: 0.2545 - val_acc: 0.9333\n",
            "Epoch 97/100\n",
            "39/39 [==============================] - 2s 53ms/step - loss: 0.2550 - acc: 0.9333 - val_loss: 0.2538 - val_acc: 0.9333\n",
            "Epoch 98/100\n",
            "39/39 [==============================] - 2s 52ms/step - loss: 0.2546 - acc: 0.9333 - val_loss: 0.2561 - val_acc: 0.9333\n",
            "Epoch 99/100\n",
            "39/39 [==============================] - 2s 52ms/step - loss: 0.2553 - acc: 0.9333 - val_loss: 0.2536 - val_acc: 0.9333\n",
            "Epoch 100/100\n",
            "39/39 [==============================] - 2s 54ms/step - loss: 0.2550 - acc: 0.9333 - val_loss: 0.2537 - val_acc: 0.9333\n"
          ],
          "name": "stdout"
        }
      ]
    },
    {
      "cell_type": "markdown",
      "metadata": {
        "id": "KBnBTyvWiVWE",
        "colab_type": "text"
      },
      "source": [
        "# Lets, have a look on training graph"
      ]
    },
    {
      "cell_type": "code",
      "metadata": {
        "id": "hAAzYrAAibVQ",
        "colab_type": "code",
        "colab": {
          "base_uri": "https://localhost:8080/",
          "height": 573
        },
        "outputId": "37954a9f-b06f-4b60-dc49-b3bb57bbc506"
      },
      "source": [
        "import keras\n",
        "from matplotlib import pyplot as plt\n",
        "\n",
        "plt.plot(history.history['acc'])\n",
        "plt.plot(history.history['val_acc'])\n",
        "plt.title('model accuracy')\n",
        "plt.ylabel('accuracy')\n",
        "plt.xlabel('epoch')\n",
        "plt.legend(['train', 'val'], loc='upper left')\n",
        "plt.show()\n",
        "\n",
        "plt.plot(history.history['loss'])\n",
        "plt.plot(history.history['val_loss'])\n",
        "plt.title('model loss')\n",
        "plt.ylabel('loss')\n",
        "plt.xlabel('epoch')\n",
        "plt.legend(['train', 'val'], loc='upper left')\n",
        "plt.show()"
      ],
      "execution_count": 18,
      "outputs": [
        {
          "output_type": "display_data",
          "data": {
            "image/png": "[encoded data removed]",
            "text/plain": [
              "<Figure size 432x288 with 1 Axes>"
            ]
          },
          "metadata": {
            "tags": []
          }
        },
        {
          "output_type": "display_data",
          "data": {
            "image/png": "[encoded data removed]",
            "text/plain": [
              "<Figure size 432x288 with 1 Axes>"
            ]
          },
          "metadata": {
            "tags": []
          }
        }
      ]
    }
  ]
}